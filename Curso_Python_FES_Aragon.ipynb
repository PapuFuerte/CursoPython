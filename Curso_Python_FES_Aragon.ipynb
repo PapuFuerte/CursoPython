{
  "nbformat": 4,
  "nbformat_minor": 0,
  "metadata": {
    "colab": {
      "name": "Curso_Python_FES_Aragon.ipynb",
      "provenance": [],
      "collapsed_sections": [],
      "authorship_tag": "ABX9TyMnXwtpm+Sa4FHDG6RsdAzq",
      "include_colab_link": true
    },
    "kernelspec": {
      "name": "python3",
      "display_name": "Python 3"
    },
    "language_info": {
      "name": "python"
    }
  },
  "cells": [
    {
      "cell_type": "markdown",
      "metadata": {
        "id": "view-in-github",
        "colab_type": "text"
      },
      "source": [
        "<a href=\"https://colab.research.google.com/github/PapuFuerte/CursoPython/blob/main/Curso_Python_FES_Aragon.ipynb\" target=\"_parent\"><img src=\"https://colab.research.google.com/assets/colab-badge.svg\" alt=\"Open In Colab\"/></a>"
      ]
    },
    {
      "cell_type": "markdown",
      "source": [
        "# Curso de python para la iniciación a la programación\n",
        "\n",
        "## introducción\n",
        "Este cuaderno es ejecutable dentro de `anaconda`, `google colab` o descargando la extensión de `jupyter notebook` dentro de `visual studio code`.\n",
        "\n",
        "### Función `print`\n",
        "La función print nos ayuda a imprimir por consola, esto como en todo lenguaje de programación, es nuestra primer aplicación dentro del mundo de python, sintácticamente difiere de muchos otros lenguajes de programación ya que solo necesitamos una línea para poder imprimir nuestro primer programa."
      ],
      "metadata": {
        "id": "lOvyUhGe4dYZ"
      }
    },
    {
      "cell_type": "code",
      "source": [
        "print('Hola mundo desde python')"
      ],
      "metadata": {
        "colab": {
          "base_uri": "https://localhost:8080/"
        },
        "id": "0FqhJ9mp5TlL",
        "outputId": "7f28d03f-f380-4e8f-ecbb-21041aa30938"
      },
      "execution_count": null,
      "outputs": [
        {
          "output_type": "stream",
          "name": "stdout",
          "text": [
            "Hola mundo desde python\n"
          ]
        }
      ]
    },
    {
      "cell_type": "markdown",
      "source": [
        "una vez realizado nuestro primer programa, podemos ver que es muy facil realizar la compilacion dentro de nuestro entorno de programación ya sea dentro de cualquiera que estemos ejecutando.\n",
        "\n",
        "---\n",
        "# SECCION 01"
      ],
      "metadata": {
        "id": "ana9VVyA59eW"
      }
    },
    {
      "cell_type": "markdown",
      "source": [
        "\n",
        "## Asignar nombre a variable\n",
        "Como podemos observar el asginar codigo dentro del entorno es muy facil, ahora lo que haremos es asignarle a la variable `nombre` nuestro nombre"
      ],
      "metadata": {
        "id": "VXxQahWZE9nD"
      }
    },
    {
      "cell_type": "code",
      "source": [
        "nombre = 'Guido Van Rossum'"
      ],
      "metadata": {
        "id": "qXds1M7J6vm1"
      },
      "execution_count": null,
      "outputs": []
    },
    {
      "cell_type": "markdown",
      "source": [
        "una vez asignado, lo que haremos es imprimir por pantalla el resultado de nuestro nombre"
      ],
      "metadata": {
        "id": "DQJCUg3b63wh"
      }
    },
    {
      "cell_type": "code",
      "source": [
        "print('Hola ',nombre)"
      ],
      "metadata": {
        "colab": {
          "base_uri": "https://localhost:8080/"
        },
        "id": "4trUJTkS68V3",
        "outputId": "0eb2f1d9-7589-44e7-f162-2c56818941a5"
      },
      "execution_count": null,
      "outputs": [
        {
          "output_type": "stream",
          "name": "stdout",
          "text": [
            "Hola  Guido Van Rossum\n"
          ]
        }
      ]
    },
    {
      "cell_type": "markdown",
      "source": [
        "## Tipos de datos\n",
        "Como podemos observar es muy facil asignar variables dentro de python, no requerimos especificar `int, var, float, char, String, double` como en otros lenguajes, y aunque muchos no lo saben, el tipado que maneja python es fuerte, ya que a pesar de que se puede establecer cualquier tipo de dato y tambien cambiarse por cualquiera, este maneja tipos de errores cuando se trata de aritmetica sobre variables de diferentes tipos, ejemplo, si asignamos un tipo de dato string y uno numerico, este nos mandara un error al realizar una suma, veamos:"
      ],
      "metadata": {
        "id": "MobEaioa7AH9"
      }
    },
    {
      "cell_type": "code",
      "source": [
        "nombre = 'Guido Von Rossum'\n",
        "numero = 1\n",
        "suma = nombre + numero\n",
        "suma"
      ],
      "metadata": {
        "colab": {
          "base_uri": "https://localhost:8080/",
          "height": 218
        },
        "id": "qa0HEYR46-1E",
        "outputId": "47a20dca-407c-461e-e037-1a942327c489"
      },
      "execution_count": null,
      "outputs": [
        {
          "output_type": "error",
          "ename": "TypeError",
          "evalue": "ignored",
          "traceback": [
            "\u001b[0;31m---------------------------------------------------------------------------\u001b[0m",
            "\u001b[0;31mTypeError\u001b[0m                                 Traceback (most recent call last)",
            "\u001b[0;32m<ipython-input-6-b369b119c4b1>\u001b[0m in \u001b[0;36m<module>\u001b[0;34m()\u001b[0m\n\u001b[1;32m      1\u001b[0m \u001b[0mnombre\u001b[0m \u001b[0;34m=\u001b[0m \u001b[0;34m'Guido Von Rossum'\u001b[0m\u001b[0;34m\u001b[0m\u001b[0;34m\u001b[0m\u001b[0m\n\u001b[1;32m      2\u001b[0m \u001b[0mnumero\u001b[0m \u001b[0;34m=\u001b[0m \u001b[0;36m1\u001b[0m\u001b[0;34m\u001b[0m\u001b[0;34m\u001b[0m\u001b[0m\n\u001b[0;32m----> 3\u001b[0;31m \u001b[0msuma\u001b[0m \u001b[0;34m=\u001b[0m \u001b[0mnombre\u001b[0m \u001b[0;34m+\u001b[0m \u001b[0mnumero\u001b[0m\u001b[0;34m\u001b[0m\u001b[0;34m\u001b[0m\u001b[0m\n\u001b[0m\u001b[1;32m      4\u001b[0m \u001b[0msuma\u001b[0m\u001b[0;34m\u001b[0m\u001b[0;34m\u001b[0m\u001b[0m\n",
            "\u001b[0;31mTypeError\u001b[0m: can only concatenate str (not \"int\") to str"
          ]
        }
      ]
    },
    {
      "cell_type": "markdown",
      "source": [
        "Como podemos ver, nos indica que no se puede concatenar un str con un int solamente con un str, si fuera primero int y despues str, el error seria que un entero no se puede suamr con un str"
      ],
      "metadata": {
        "id": "88EXc16V7s7Z"
      }
    },
    {
      "cell_type": "code",
      "source": [
        "suma = numero + nombre"
      ],
      "metadata": {
        "colab": {
          "base_uri": "https://localhost:8080/",
          "height": 166
        },
        "id": "WwQD5rWA746o",
        "outputId": "fb67dcd5-9fbc-41e6-cb29-14c624c75a62"
      },
      "execution_count": null,
      "outputs": [
        {
          "output_type": "error",
          "ename": "TypeError",
          "evalue": "ignored",
          "traceback": [
            "\u001b[0;31m---------------------------------------------------------------------------\u001b[0m",
            "\u001b[0;31mTypeError\u001b[0m                                 Traceback (most recent call last)",
            "\u001b[0;32m<ipython-input-8-f6a13b16bfe2>\u001b[0m in \u001b[0;36m<module>\u001b[0;34m()\u001b[0m\n\u001b[0;32m----> 1\u001b[0;31m \u001b[0msuma\u001b[0m \u001b[0;34m=\u001b[0m \u001b[0mnumero\u001b[0m \u001b[0;34m+\u001b[0m \u001b[0mnombre\u001b[0m\u001b[0;34m\u001b[0m\u001b[0;34m\u001b[0m\u001b[0m\n\u001b[0m",
            "\u001b[0;31mTypeError\u001b[0m: unsupported operand type(s) for +: 'int' and 'str'"
          ]
        }
      ]
    },
    {
      "cell_type": "markdown",
      "source": [
        "Conozcamos los tipos de datos que tiene python"
      ],
      "metadata": {
        "id": "BPiNHdM88Rsg"
      }
    },
    {
      "cell_type": "code",
      "source": [
        "entero = 1\n",
        "flotante = 1.1\n",
        "caracter = 'a'\n",
        "cadena = 'cadena'\n",
        "complejo = 1 + 1j\n",
        "boleano = True\n",
        "tupla = 1,\n",
        "lista = [1]\n",
        "diccionario = {'nombre':'Guido'}\n",
        "conjunto = {'urano','neptuno'}\n",
        "\n",
        "print(type(entero))\n",
        "print(type(flotante))\n",
        "print(type(caracter))\n",
        "print(type(cadena))\n",
        "print(type(complejo))\n",
        "print(type(boleano))\n",
        "print(type(tupla))\n",
        "print(type(lista))\n",
        "print(type(diccionario))\n",
        "print(type(conjunto))\n"
      ],
      "metadata": {
        "colab": {
          "base_uri": "https://localhost:8080/"
        },
        "id": "hLlffUyP8Y06",
        "outputId": "8a844b5d-91cd-4f6b-e960-1f10e9eceab9"
      },
      "execution_count": null,
      "outputs": [
        {
          "output_type": "stream",
          "name": "stdout",
          "text": [
            "<class 'int'>\n",
            "<class 'float'>\n",
            "<class 'str'>\n",
            "<class 'str'>\n",
            "<class 'complex'>\n",
            "<class 'bool'>\n",
            "<class 'tuple'>\n",
            "<class 'list'>\n",
            "<class 'dict'>\n",
            "<class 'set'>\n"
          ]
        }
      ]
    },
    {
      "cell_type": "markdown",
      "source": [
        "## Aritmetica\n",
        "Si bien ya establecimos que python es de tipado fuerte, ahora lo que haremos será"
      ],
      "metadata": {
        "id": "85yzvbK479oD"
      }
    },
    {
      "cell_type": "code",
      "source": [
        "numero1 = 12\n",
        "numero2 = 10\n",
        "\n",
        "resultado = numero1 + numero2 \n",
        "print('La suma es:',resultado)\n",
        "resultado = numero1 - numero2 \n",
        "print('La resta es:',resultado)\n",
        "resultado = numero1 * numero2 \n",
        "print('La multiplicación es:',resultado)\n",
        "resultado = numero1 / numero2 \n",
        "print('La división es:',resultado)\n",
        "resultado = numero1 // numero2 \n",
        "print('La división entera es:',resultado)\n",
        "resultado = numero1 ** numero2 \n",
        "print('La exponencial es:',resultado)\n",
        "resultado = numero1 % numero2 \n",
        "print('La residuo es:',resultado)"
      ],
      "metadata": {
        "colab": {
          "base_uri": "https://localhost:8080/"
        },
        "id": "3gXL8djt78X3",
        "outputId": "19eb9786-f10f-4e41-bc93-ad356b792e9a"
      },
      "execution_count": null,
      "outputs": [
        {
          "output_type": "stream",
          "name": "stdout",
          "text": [
            "La suma es: 22\n",
            "La resta es: 2\n",
            "La multiplicación es: 120\n",
            "La división es: 1.2\n",
            "La división entera es: 1\n",
            "La exponencial es: 61917364224\n",
            "La residuo es: 2\n"
          ]
        }
      ]
    },
    {
      "cell_type": "markdown",
      "source": [
        "Como podemos observar las operaciones aritmeticas son faciles de realizar dentro de nuestro entorno en python, no necesitamos nada más solo que agregar las variables, asignarles un valor y realizar la operación que necesitemos."
      ],
      "metadata": {
        "id": "Z9Fa8C4rBt44"
      }
    },
    {
      "cell_type": "markdown",
      "source": [
        "## Pedir valores por consola\n",
        "En el caso anterior nosotros asignamos los valores, pero que sucede si queremos asignar valores por nosotros mismos, para esto, usamos la funcion input"
      ],
      "metadata": {
        "id": "7UX92mEfB9ok"
      }
    },
    {
      "cell_type": "code",
      "source": [
        "numero1 = input('Danos un número:')\n",
        "numero2 = input('Danos un número:')\n",
        "suma = numero1 + numero2\n",
        "print('La suma es:',suma)"
      ],
      "metadata": {
        "colab": {
          "base_uri": "https://localhost:8080/"
        },
        "id": "GLNleqOeCM8Y",
        "outputId": "d3d36c09-4747-4258-d35e-d2308cc5f6d1"
      },
      "execution_count": null,
      "outputs": [
        {
          "output_type": "stream",
          "name": "stdout",
          "text": [
            "Danos un número:12\n",
            "Danos un número:12\n",
            "La suma es: 1212\n"
          ]
        }
      ]
    },
    {
      "cell_type": "markdown",
      "source": [
        "Como podemos ver, al agregar los números y realizar una suma, nos contateno nuestros valores, esto se debe a que la función input ingresa valores str, por lo tanto nosotros tenemos que cambiar el tipo de dato, ya sea directamente desde el input o desde la variable asignarle el tipo de dato que queramos."
      ],
      "metadata": {
        "id": "phBtow4FCXd7"
      }
    },
    {
      "cell_type": "code",
      "source": [
        "# CAS0 1\n",
        "numero1 = int(input('Danos un número:'))\n",
        "numero2 = int(input('Danos un número:'))\n",
        "suma = numero1 + numero2\n",
        "print('La suma es:',suma)"
      ],
      "metadata": {
        "colab": {
          "base_uri": "https://localhost:8080/"
        },
        "id": "p7WVf3buCqsx",
        "outputId": "c308c62c-1e14-4e1e-c16f-2ce14ce33c00"
      },
      "execution_count": null,
      "outputs": [
        {
          "output_type": "stream",
          "name": "stdout",
          "text": [
            "Danos un número:12\n",
            "Danos un número:12\n",
            "La suma es: 24\n"
          ]
        }
      ]
    },
    {
      "cell_type": "code",
      "source": [
        "# CASO 2\n",
        "numero1 = input('Danos un número:')\n",
        "numero2 = input('Danos un número:')\n",
        "# Aquí realizamos un paso en js denominado parsing\n",
        "numero1,numero2 = int(numero1),int(numero2)\n",
        "suma = numero1 + numero2\n",
        "print('La suma es:',suma)"
      ],
      "metadata": {
        "colab": {
          "base_uri": "https://localhost:8080/"
        },
        "id": "aNi6N8YpC0yr",
        "outputId": "ebfa4e14-ff05-4a8b-b877-fe7e397baa63"
      },
      "execution_count": null,
      "outputs": [
        {
          "output_type": "stream",
          "name": "stdout",
          "text": [
            "Danos un número:12\n",
            "Danos un número:12\n",
            "La suma es: 24\n"
          ]
        }
      ]
    },
    {
      "cell_type": "markdown",
      "source": [
        "Como vemos cambiar los tipos de datos es muy facil, de esta manera podemos lograr objetivos de manera muy rapida, ya que todo dentro de python es relativamente de una manera sencilla."
      ],
      "metadata": {
        "id": "6BohY5AjDFOk"
      }
    },
    {
      "cell_type": "markdown",
      "source": [
        "---\n",
        "## EJERCICIOS \n",
        "1. Pedir nombre por pantalla e imprimirlo\n",
        "2. Pedir dos numeros e imprimirlos por pantalla\n",
        "3. Pedir el sueldo de una persona y aumertarle el 25%\n",
        "4. Realizar descuento en una tienda del 15% por liquidación"
      ],
      "metadata": {
        "id": "-4L370oNDZW1"
      }
    },
    {
      "cell_type": "code",
      "source": [
        "# Resolucion\n",
        "# Ejercicio 1\n",
        "nombre = input('Danos tú nombre: ')\n",
        "print('Tu nombre es ')"
      ],
      "metadata": {
        "colab": {
          "base_uri": "https://localhost:8080/"
        },
        "id": "7pu6-fZYDPbK",
        "outputId": "94444566-8e97-4f98-a418-cadbd7357ce3"
      },
      "execution_count": null,
      "outputs": [
        {
          "output_type": "stream",
          "name": "stdout",
          "text": [
            "Danos tú nombre: Guido\n",
            "Tu nombre es  Guido\n"
          ]
        }
      ]
    },
    {
      "cell_type": "code",
      "source": [
        "# Ejercicio 2\n",
        "n1 = input('Danos un numero:')\n",
        "n2 = input('Danos un numero:')\n",
        "print('Los numeros son:',n1,' y ',n2)"
      ],
      "metadata": {
        "colab": {
          "base_uri": "https://localhost:8080/"
        },
        "id": "m_5Op2UrD9kJ",
        "outputId": "3f3a61b8-8a7f-4e42-dada-e0ce4bec32ed"
      },
      "execution_count": null,
      "outputs": [
        {
          "output_type": "stream",
          "name": "stdout",
          "text": [
            "Danos un numero:12\n",
            "Danos un numero:12\n",
            "Los numeros son: 12  y  12\n"
          ]
        }
      ]
    },
    {
      "cell_type": "code",
      "source": [
        "# Ejercicio 3\n",
        "salario = float(input('Danos tú salario mensual: $'))\n",
        "aumento = salario * .25\n",
        "salario_nuevo = salario + aumento\n",
        "print('Tú salario nuevo es de: $',salario_nuevo)"
      ],
      "metadata": {
        "colab": {
          "base_uri": "https://localhost:8080/"
        },
        "id": "0OtgIBQpEKzA",
        "outputId": "4328593b-5d89-4b93-d691-0da9e5277ad5"
      },
      "execution_count": null,
      "outputs": [
        {
          "output_type": "stream",
          "name": "stdout",
          "text": [
            "Danos tú salario mensual: $100\n",
            "Tú salario nuevo es de: $ 125.0\n"
          ]
        }
      ]
    },
    {
      "cell_type": "code",
      "source": [
        "# Ejercicio 4\n",
        "total = float(input('Danos el total de la venta:$'))\n",
        "descuento = total * .15\n",
        "total_descuento = total - descuento\n",
        "print('Su total a pagar con 15% es de: $',total_descuento)"
      ],
      "metadata": {
        "colab": {
          "base_uri": "https://localhost:8080/"
        },
        "id": "dpCImHiWEiRj",
        "outputId": "b3012c17-2f4a-497a-c21c-6bbff26a8529"
      },
      "execution_count": null,
      "outputs": [
        {
          "output_type": "stream",
          "name": "stdout",
          "text": [
            "Danos el total de la venta:$100\n",
            "Su total a pagar con 15% es de: $ 85.0\n"
          ]
        }
      ]
    },
    {
      "cell_type": "markdown",
      "source": [
        "# SECCION 02"
      ],
      "metadata": {
        "id": "sOZUZN4EFBoz"
      }
    },
    {
      "cell_type": "markdown",
      "source": [
        "## Listas\n",
        "son tipos de datos mutables dentro de python, para generarlas podemos hacerlo de dos maneras, una mediante [] corchetes y la otra mediante la funcion `list`"
      ],
      "metadata": {
        "id": "EHDTa31SFGAe"
      }
    },
    {
      "cell_type": "code",
      "source": [
        "lista1 = [1,2,3,4]\n",
        "lista2 = list((1,2,3,4))\n",
        "lista1,lista2"
      ],
      "metadata": {
        "colab": {
          "base_uri": "https://localhost:8080/"
        },
        "id": "7Atw0BhHFZ35",
        "outputId": "9f142dad-7659-4933-b316-edb35d0dd464"
      },
      "execution_count": null,
      "outputs": [
        {
          "output_type": "execute_result",
          "data": {
            "text/plain": [
              "([1, 2, 3, 4], [1, 2, 3, 4])"
            ]
          },
          "metadata": {},
          "execution_count": 51
        }
      ]
    },
    {
      "cell_type": "code",
      "source": [
        "print(type(lista1))\n",
        "print(type(lista2))"
      ],
      "metadata": {
        "colab": {
          "base_uri": "https://localhost:8080/"
        },
        "id": "Pv5Q_cWyFhfP",
        "outputId": "2788451b-654a-4f13-ff0f-fc5a7b2c28d5"
      },
      "execution_count": null,
      "outputs": [
        {
          "output_type": "stream",
          "name": "stdout",
          "text": [
            "<class 'list'>\n",
            "<class 'list'>\n"
          ]
        }
      ]
    },
    {
      "cell_type": "markdown",
      "source": [
        "Como podemos observar la manera de los corchetes es mucho más facil, pero en cualquiera de los casos es bueno saber que podemos usar ambos.\n",
        "\n",
        "### append\n",
        "Ahora si nosotros queremos agregar algún dato a nuestra lista podemos ocupar la funcion `.append`"
      ],
      "metadata": {
        "id": "XErXa8BlFj3b"
      }
    },
    {
      "cell_type": "code",
      "source": [
        "lista1.append(190)\n",
        "print(lista1)"
      ],
      "metadata": {
        "colab": {
          "base_uri": "https://localhost:8080/"
        },
        "id": "6xQAX-daF22i",
        "outputId": "7134c97f-95ae-47f6-ea46-39dbebbc5fc2"
      },
      "execution_count": null,
      "outputs": [
        {
          "output_type": "stream",
          "name": "stdout",
          "text": [
            "[1, 2, 3, 4, 190]\n"
          ]
        }
      ]
    },
    {
      "cell_type": "markdown",
      "source": [
        "### pop\n",
        "con drop podemos borrar algún elemento de nuestra lista"
      ],
      "metadata": {
        "id": "AdncMztyGIoZ"
      }
    },
    {
      "cell_type": "code",
      "source": [
        "lista1.pop()\n",
        "lista1"
      ],
      "metadata": {
        "colab": {
          "base_uri": "https://localhost:8080/"
        },
        "id": "Ego-Yz80GOUo",
        "outputId": "bc10b116-53b4-4f42-fa90-ad5d89cb6d39"
      },
      "execution_count": null,
      "outputs": [
        {
          "output_type": "execute_result",
          "data": {
            "text/plain": [
              "[1, 2, 3, 4]"
            ]
          },
          "metadata": {},
          "execution_count": 47
        }
      ]
    },
    {
      "cell_type": "markdown",
      "source": [
        "si queremos borrar algún dato en especifico lo que hacemos es lo siguiente"
      ],
      "metadata": {
        "id": "g9obB2ANGbnV"
      }
    },
    {
      "cell_type": "code",
      "source": [
        "lista1.pop(0) # Asignamos la posicion 0 que es el número 1\n",
        "lista1"
      ],
      "metadata": {
        "colab": {
          "base_uri": "https://localhost:8080/"
        },
        "id": "WhYfZ7WNGgVC",
        "outputId": "f4f3661f-35a7-4ebc-ab84-494282c812e2"
      },
      "execution_count": null,
      "outputs": [
        {
          "output_type": "execute_result",
          "data": {
            "text/plain": [
              "[2, 3, 4]"
            ]
          },
          "metadata": {},
          "execution_count": 48
        }
      ]
    },
    {
      "cell_type": "markdown",
      "source": [
        "### remove\n",
        "Ahora si queremos borrar un dato en especifico de la lista en vez de por elemento, ocupamos `remove`"
      ],
      "metadata": {
        "id": "VyqAA596Gu3b"
      }
    },
    {
      "cell_type": "code",
      "source": [
        "lista1.remove(3)\n",
        "lista1"
      ],
      "metadata": {
        "colab": {
          "base_uri": "https://localhost:8080/"
        },
        "id": "X4z59Q6NGuDD",
        "outputId": "8846b0d8-1cdd-4cd0-ffa3-f18b0224d43a"
      },
      "execution_count": null,
      "outputs": [
        {
          "output_type": "execute_result",
          "data": {
            "text/plain": [
              "[1, 2, 4]"
            ]
          },
          "metadata": {},
          "execution_count": 52
        }
      ]
    },
    {
      "cell_type": "markdown",
      "source": [
        "### sort\n",
        "para nosotros ordenar una lista ocupamos la función sort, esta nos ayuda a ordenar ya sea de manera ascendente o descendente especificandolo en la función"
      ],
      "metadata": {
        "id": "jjyGEEi_HAH7"
      }
    },
    {
      "cell_type": "code",
      "source": [
        "lista1 = [14,1,2,-1,12,-190]\n",
        "lista1.sort()\n",
        "lista1"
      ],
      "metadata": {
        "colab": {
          "base_uri": "https://localhost:8080/"
        },
        "id": "DKoioSLYHNWB",
        "outputId": "483cbcbe-9083-4c01-d1e2-fc9dd789741e"
      },
      "execution_count": null,
      "outputs": [
        {
          "output_type": "execute_result",
          "data": {
            "text/plain": [
              "[-190, -1, 1, 2, 12, 14]"
            ]
          },
          "metadata": {},
          "execution_count": 56
        }
      ]
    },
    {
      "cell_type": "markdown",
      "source": [
        "para ordenarlo de mayor a menor se ocupa el parametro `reverse = True`"
      ],
      "metadata": {
        "id": "75YdAXaCHbhS"
      }
    },
    {
      "cell_type": "code",
      "source": [
        "lista1.sort(reverse = True)\n",
        "lista1"
      ],
      "metadata": {
        "colab": {
          "base_uri": "https://localhost:8080/"
        },
        "id": "jKbNUvi0HVUv",
        "outputId": "6aec73eb-be00-4ef8-8dc1-9da80f79cc24"
      },
      "execution_count": null,
      "outputs": [
        {
          "output_type": "execute_result",
          "data": {
            "text/plain": [
              "[14, 12, 2, 1, -1, -190]"
            ]
          },
          "metadata": {},
          "execution_count": 60
        }
      ]
    },
    {
      "cell_type": "markdown",
      "source": [
        "### Filtrado\n",
        "para obtener el filtrado dentro de una lista, nos basaremos en la posicion del elemento, si queremos el dato 14 de la lista 1, lo que tenemos que hacer es lo siguiente"
      ],
      "metadata": {
        "id": "W9Xbze3zHn4r"
      }
    },
    {
      "cell_type": "code",
      "source": [
        "lista1[0]"
      ],
      "metadata": {
        "colab": {
          "base_uri": "https://localhost:8080/"
        },
        "id": "-Pr8IgUwHi6L",
        "outputId": "7d284dab-a2e1-4b5a-ae11-a04c51fe5dc0"
      },
      "execution_count": null,
      "outputs": [
        {
          "output_type": "execute_result",
          "data": {
            "text/plain": [
              "14"
            ]
          },
          "metadata": {},
          "execution_count": 62
        }
      ]
    },
    {
      "cell_type": "markdown",
      "source": [
        "ahora si queremos obtener el ultimo elemento de nuestra lista lo que hacemos es usar el -1, esto nos sirve por si no sabemos la longitud total de nuestra lista"
      ],
      "metadata": {
        "id": "gMJ941p0H2xI"
      }
    },
    {
      "cell_type": "code",
      "source": [
        "lista1[-1]"
      ],
      "metadata": {
        "colab": {
          "base_uri": "https://localhost:8080/"
        },
        "id": "5Q1OpQhrH1ip",
        "outputId": "5d1afd05-e755-4b21-924c-67f7ad05ff01"
      },
      "execution_count": null,
      "outputs": [
        {
          "output_type": "execute_result",
          "data": {
            "text/plain": [
              "-190"
            ]
          },
          "metadata": {},
          "execution_count": 64
        }
      ]
    },
    {
      "cell_type": "markdown",
      "source": [
        "Tambien podemos filtrar mediante elementos de 2 en 2 de la siguiente manera"
      ],
      "metadata": {
        "id": "3wTOqPOTIE31"
      }
    },
    {
      "cell_type": "code",
      "source": [
        "lista1[::2]"
      ],
      "metadata": {
        "colab": {
          "base_uri": "https://localhost:8080/"
        },
        "id": "Sz1G26jSICO8",
        "outputId": "05e4bc49-7e2b-4438-c020-18d83284d05a"
      },
      "execution_count": null,
      "outputs": [
        {
          "output_type": "execute_result",
          "data": {
            "text/plain": [
              "[14, 2, -1]"
            ]
          },
          "metadata": {},
          "execution_count": 76
        }
      ]
    },
    {
      "cell_type": "markdown",
      "source": [
        "Le estamos indicando que tome todos los elementos desde el primero al ultimo y de saltos de 2 en 2.\n",
        "\n",
        "### len\n",
        "Este lo usamos para contar la totalidad de los elementos"
      ],
      "metadata": {
        "id": "F5VZWRDpIaCR"
      }
    },
    {
      "cell_type": "code",
      "source": [
        "lista1 = [1,2,3,4,5,6,8,9,0]\n",
        "len(lista1)"
      ],
      "metadata": {
        "colab": {
          "base_uri": "https://localhost:8080/"
        },
        "id": "3WgQSrDeIPBo",
        "outputId": "d7e15944-d265-4bbe-cfe0-2e71faca9202"
      },
      "execution_count": null,
      "outputs": [
        {
          "output_type": "execute_result",
          "data": {
            "text/plain": [
              "9"
            ]
          },
          "metadata": {},
          "execution_count": 83
        }
      ]
    },
    {
      "cell_type": "markdown",
      "source": [
        "### copy\n",
        "este lo ocupamos para poder hacer una copia de nuestra lista y no se tome como apuntador de la misma, veamos un ejemplo"
      ],
      "metadata": {
        "id": "09HFM22UI-st"
      }
    },
    {
      "cell_type": "code",
      "source": [
        "lista2 = lista1\n",
        "lista1_copy = lista1.copy()\n",
        "lista2, lista1_copy"
      ],
      "metadata": {
        "colab": {
          "base_uri": "https://localhost:8080/"
        },
        "id": "p4RLtMPVI9aM",
        "outputId": "e84754cc-ce85-4f2f-baae-37ee5b173080"
      },
      "execution_count": null,
      "outputs": [
        {
          "output_type": "execute_result",
          "data": {
            "text/plain": [
              "([1, 2, 3, 4, 5, 6, 8, 9, 0], [1, 2, 3, 4, 5, 6, 8, 9, 0])"
            ]
          },
          "metadata": {},
          "execution_count": 84
        }
      ]
    },
    {
      "cell_type": "markdown",
      "source": [
        "Como podemos ver, lista2 es \"una copia\" de lista1, pero no es así, este es un elemento por referencia o un apuntador que estan localizados en la misma parte de la memoría, si modificamos lista2 o lista1 estas se verán modificadas ambas cambiando alguna de las 2"
      ],
      "metadata": {
        "id": "sQo5KIygJVNd"
      }
    },
    {
      "cell_type": "code",
      "source": [
        "lista2[0] = 'Marcos'\n",
        "lista2,lista1"
      ],
      "metadata": {
        "colab": {
          "base_uri": "https://localhost:8080/"
        },
        "id": "zfgrQaQ-JplK",
        "outputId": "f5510297-c470-429f-b7b3-7f02cdeb0f39"
      },
      "execution_count": null,
      "outputs": [
        {
          "output_type": "execute_result",
          "data": {
            "text/plain": [
              "(['Marcos', 2, 3, 4, 5, 6, 8, 9, 0], ['Marcos', 2, 3, 4, 5, 6, 8, 9, 0])"
            ]
          },
          "metadata": {},
          "execution_count": 85
        }
      ]
    },
    {
      "cell_type": "markdown",
      "source": [
        "Como podemos ver, al modificar el elemento en la posición 0, nos cambio en ambas listas el primer elemento. ahora veamos la lista1_copy y comparemos con lista1\n"
      ],
      "metadata": {
        "id": "Own_Xo4zJuBB"
      }
    },
    {
      "cell_type": "code",
      "source": [
        "lista1_copy,lista1"
      ],
      "metadata": {
        "colab": {
          "base_uri": "https://localhost:8080/"
        },
        "id": "moBWmproJ6kd",
        "outputId": "17bd2c57-5581-47c2-ba6d-e086ed8c986b"
      },
      "execution_count": null,
      "outputs": [
        {
          "output_type": "execute_result",
          "data": {
            "text/plain": [
              "([1, 2, 3, 4, 5, 6, 8, 9, 0], ['Marcos', 2, 3, 4, 5, 6, 8, 9, 0])"
            ]
          },
          "metadata": {},
          "execution_count": 86
        }
      ]
    },
    {
      "cell_type": "markdown",
      "source": [
        "Como podemos observar, el cambio solo aparece en la lista1, ya que hicimos una copia que apunta en otra direccion de memoria, por lo tanto este dato es diferente al de la lista1 a pesar de ser una copia en un principio fiel del la misma.\n",
        "\n",
        "---\n",
        "\n",
        "### del\n",
        "Para nosotros borrar una lista ocupamos la función `del`"
      ],
      "metadata": {
        "id": "tnuR1hQvJ9Pf"
      }
    },
    {
      "cell_type": "code",
      "source": [
        "lista1 = [1,2,3]\n",
        "lista1"
      ],
      "metadata": {
        "colab": {
          "base_uri": "https://localhost:8080/"
        },
        "id": "kBQSr9QxKNlr",
        "outputId": "8764e0ee-8627-4cdc-d38d-1dd5c9966dc2"
      },
      "execution_count": null,
      "outputs": [
        {
          "output_type": "execute_result",
          "data": {
            "text/plain": [
              "[1, 2, 3]"
            ]
          },
          "metadata": {},
          "execution_count": 88
        }
      ]
    },
    {
      "cell_type": "code",
      "source": [
        "del lista1\n",
        "lista1"
      ],
      "metadata": {
        "colab": {
          "base_uri": "https://localhost:8080/",
          "height": 184
        },
        "id": "-7SpDO1jKRBP",
        "outputId": "d8bf0d8c-211d-467c-892d-f14103cca573"
      },
      "execution_count": null,
      "outputs": [
        {
          "output_type": "error",
          "ename": "NameError",
          "evalue": "ignored",
          "traceback": [
            "\u001b[0;31m---------------------------------------------------------------------------\u001b[0m",
            "\u001b[0;31mNameError\u001b[0m                                 Traceback (most recent call last)",
            "\u001b[0;32m<ipython-input-89-4d98ae597b78>\u001b[0m in \u001b[0;36m<module>\u001b[0;34m()\u001b[0m\n\u001b[1;32m      1\u001b[0m \u001b[0;32mdel\u001b[0m \u001b[0mlista1\u001b[0m\u001b[0;34m\u001b[0m\u001b[0;34m\u001b[0m\u001b[0m\n\u001b[0;32m----> 2\u001b[0;31m \u001b[0mlista1\u001b[0m\u001b[0;34m\u001b[0m\u001b[0;34m\u001b[0m\u001b[0m\n\u001b[0m",
            "\u001b[0;31mNameError\u001b[0m: name 'lista1' is not defined"
          ]
        }
      ]
    },
    {
      "cell_type": "markdown",
      "source": [
        "## Tuplas\n",
        "Las tuplas son datos similares al de las listas, la diferencia es que la tupla es inmutable, la tupla se define como un dato que proviene de las bases de datos."
      ],
      "metadata": {
        "id": "3-a94Jv8KYXe"
      }
    },
    {
      "cell_type": "code",
      "source": [
        "tupla1 = (1,2,3,4)\n",
        "tupla1"
      ],
      "metadata": {
        "colab": {
          "base_uri": "https://localhost:8080/"
        },
        "id": "i_I5PxxBKjcZ",
        "outputId": "7bc80248-0376-43f2-f689-2f17597afd30"
      },
      "execution_count": null,
      "outputs": [
        {
          "output_type": "execute_result",
          "data": {
            "text/plain": [
              "(1, 2, 3, 4)"
            ]
          },
          "metadata": {},
          "execution_count": 90
        }
      ]
    },
    {
      "cell_type": "markdown",
      "source": [
        "La diferencia entre una lista y la tupla es que se define mediante parentesis () y la lista mediante corchetes [ ]"
      ],
      "metadata": {
        "id": "5YaJW5ngKnXS"
      }
    },
    {
      "cell_type": "code",
      "source": [
        "tupla1 = tuple((4,5,3,2,1,23,1,1,2,12,1,2,3,4))\n",
        "tupla1"
      ],
      "metadata": {
        "colab": {
          "base_uri": "https://localhost:8080/"
        },
        "id": "Xwg_FF27KwS9",
        "outputId": "8f86c748-5b89-45d2-e740-02272b220142"
      },
      "execution_count": null,
      "outputs": [
        {
          "output_type": "execute_result",
          "data": {
            "text/plain": [
              "(4, 5, 3, 2, 1, 23, 1, 1, 2, 12, 1, 2, 3, 4)"
            ]
          },
          "metadata": {},
          "execution_count": 92
        }
      ]
    },
    {
      "cell_type": "markdown",
      "source": [
        "La tupla al igual que la lista acepta valores repetidos, y mediante la función count al igual que en la lista podemos ver cuantas veces se repite el dato.\n",
        "\n",
        "### count"
      ],
      "metadata": {
        "id": "JJB6RyPNK7lJ"
      }
    },
    {
      "cell_type": "code",
      "source": [
        "tupla1.count(1)"
      ],
      "metadata": {
        "colab": {
          "base_uri": "https://localhost:8080/"
        },
        "id": "yScg4tTuK2Yb",
        "outputId": "1f2ec74a-bd07-4b62-eb69-0b78b2320b36"
      },
      "execution_count": null,
      "outputs": [
        {
          "output_type": "execute_result",
          "data": {
            "text/plain": [
              "4"
            ]
          },
          "metadata": {},
          "execution_count": 93
        }
      ]
    },
    {
      "cell_type": "markdown",
      "source": [
        "### inmutable\n",
        "Como se comento la diferencia de la tupla a la lista es que esta es inmutable, pero en dado caso de querer agregar un dato podemos alterarla mediante la función `list`"
      ],
      "metadata": {
        "id": "mO6V5J1PLGtL"
      }
    },
    {
      "cell_type": "code",
      "source": [
        "tupla1_copia = list(tupla1)\n",
        "tupla1_copia.append('Fresa')\n",
        "tupla1 = tuple(tupla1_copia)\n",
        "tupla1"
      ],
      "metadata": {
        "colab": {
          "base_uri": "https://localhost:8080/"
        },
        "id": "tq0VSFExLHfl",
        "outputId": "7e4e07af-ad7b-4ca2-feac-e8c809497ea4"
      },
      "execution_count": null,
      "outputs": [
        {
          "output_type": "execute_result",
          "data": {
            "text/plain": [
              "(4, 5, 3, 2, 1, 23, 1, 1, 2, 12, 1, 2, 3, 4, 'Fresa')"
            ]
          },
          "metadata": {},
          "execution_count": 95
        }
      ]
    },
    {
      "cell_type": "markdown",
      "source": [
        "Como podemos observar, usamos la función lista, despúes regresamos el valor a su lugar para poder mostrar el valor de la tupla."
      ],
      "metadata": {
        "id": "LBZLEa01LizX"
      }
    },
    {
      "cell_type": "markdown",
      "source": [
        "## Diccionarios\n",
        "Los diccionarios de datos son muy importantes, ya que gracias a ellos podemos realizar manejo de datos mediante dataframes, en sitaxis es muy parecido a los objetos declarados en javascript, usamos las llaves para declararlos o la funcion `dict` para declararlos"
      ],
      "metadata": {
        "id": "K7eqITBNLtLk"
      }
    },
    {
      "cell_type": "code",
      "source": [
        "numero = dict(uno=1,dos=2,tres=3)\n",
        "numero"
      ],
      "metadata": {
        "colab": {
          "base_uri": "https://localhost:8080/"
        },
        "id": "4Wkp2VxFMARN",
        "outputId": "6a29fcb0-c9d5-4b2e-9bf9-3aee50d1b842"
      },
      "execution_count": null,
      "outputs": [
        {
          "output_type": "execute_result",
          "data": {
            "text/plain": [
              "{'dos': 2, 'tres': 3, 'uno': 1}"
            ]
          },
          "metadata": {},
          "execution_count": 104
        }
      ]
    },
    {
      "cell_type": "code",
      "source": [
        "numero2 = {'uno':1,\n",
        "          'dos':2,\n",
        "          'tres':3\n",
        "}\n",
        "numero2"
      ],
      "metadata": {
        "colab": {
          "base_uri": "https://localhost:8080/"
        },
        "id": "2jU3IjoZMhNG",
        "outputId": "7ccee504-2744-45fa-88d8-9741297aca83"
      },
      "execution_count": null,
      "outputs": [
        {
          "output_type": "execute_result",
          "data": {
            "text/plain": [
              "{'dos': 2, 'tres': 3, 'uno': 1}"
            ]
          },
          "metadata": {},
          "execution_count": 119
        }
      ]
    },
    {
      "cell_type": "markdown",
      "source": [
        "### agregar clave valor\n",
        "para agregar datos dentro de nuestro diccionario, agregamos la clave y el valor o valores que queremos que tenga nuestro diccionario"
      ],
      "metadata": {
        "id": "3W1yGyjUM2KV"
      }
    },
    {
      "cell_type": "code",
      "source": [
        "numero2['edad'] = [1,2,3,4,5]\n",
        "numero2"
      ],
      "metadata": {
        "colab": {
          "base_uri": "https://localhost:8080/"
        },
        "id": "SDWHMKavMqme",
        "outputId": "f9f388d7-ec01-4af5-b5ef-2f860e916b24"
      },
      "execution_count": null,
      "outputs": [
        {
          "output_type": "execute_result",
          "data": {
            "text/plain": [
              "{'edad': [1, 2, 3, 4, 5], 'tres': 3}"
            ]
          },
          "metadata": {},
          "execution_count": 118
        }
      ]
    },
    {
      "cell_type": "markdown",
      "source": [
        "con las siguientes funciones podemos obtener tanto las llaves, los elementos y los valores que contiene nuestro diccionario"
      ],
      "metadata": {
        "id": "TYrqh4-WNXLI"
      }
    },
    {
      "cell_type": "code",
      "source": [
        "numero2.keys(),numero2.items(),numero2.values()"
      ],
      "metadata": {
        "colab": {
          "base_uri": "https://localhost:8080/"
        },
        "id": "LYQ3ypqLNKXT",
        "outputId": "f272f643-880a-44c8-b04e-88a227df87cc"
      },
      "execution_count": null,
      "outputs": [
        {
          "output_type": "execute_result",
          "data": {
            "text/plain": [
              "(dict_keys(['uno', 'dos', 'tres', 'edad']),\n",
              " dict_items([('uno', 1), ('dos', 2), ('tres', 3), ('edad', [1, 2, 3, 4, 5])]),\n",
              " dict_values([1, 2, 3, [1, 2, 3, 4, 5]]))"
            ]
          },
          "metadata": {},
          "execution_count": 112
        }
      ]
    },
    {
      "cell_type": "markdown",
      "source": [
        "### pop\n",
        "Tambien podemos eliminar datos de nuestro diccionario con la fucion `pop`"
      ],
      "metadata": {
        "id": "u8BW4HFjNd29"
      }
    },
    {
      "cell_type": "code",
      "source": [
        "numero2.pop('uno')\n",
        "numero2"
      ],
      "metadata": {
        "colab": {
          "base_uri": "https://localhost:8080/"
        },
        "id": "vsN8BmaKNjik",
        "outputId": "ac99ed45-8065-414a-ff93-1dd987119526"
      },
      "execution_count": null,
      "outputs": [
        {
          "output_type": "execute_result",
          "data": {
            "text/plain": [
              "{'dos': 2, 'edad': [1, 2, 3, 4, 5], 'tres': 3}"
            ]
          },
          "metadata": {},
          "execution_count": 115
        }
      ]
    },
    {
      "cell_type": "markdown",
      "source": [
        "### del\n",
        "tambien podemos ocupar `del`"
      ],
      "metadata": {
        "id": "wYt4JuTjOGsm"
      }
    },
    {
      "cell_type": "code",
      "source": [
        "del numero2['dos']\n",
        "numero2"
      ],
      "metadata": {
        "colab": {
          "base_uri": "https://localhost:8080/"
        },
        "id": "smvrAZhkOVnR",
        "outputId": "cf9a332e-0af0-4282-9c4f-67959fb88f97"
      },
      "execution_count": null,
      "outputs": [
        {
          "output_type": "execute_result",
          "data": {
            "text/plain": [
              "{'tres': 3, 'uno': 1}"
            ]
          },
          "metadata": {},
          "execution_count": 120
        }
      ]
    },
    {
      "cell_type": "markdown",
      "source": [
        "### clear\n",
        "para limpiar un diccionario, tupla, lista podemos ocupar la función `clear`"
      ],
      "metadata": {
        "id": "Qq8eRW_rOjEP"
      }
    },
    {
      "cell_type": "code",
      "source": [
        "numero2.clear()\n",
        "numero2"
      ],
      "metadata": {
        "colab": {
          "base_uri": "https://localhost:8080/"
        },
        "id": "NTvVtzVqOa4_",
        "outputId": "308af99f-ee93-44e6-e4cd-e2f1768902c4"
      },
      "execution_count": null,
      "outputs": [
        {
          "output_type": "execute_result",
          "data": {
            "text/plain": [
              "{}"
            ]
          },
          "metadata": {},
          "execution_count": 121
        }
      ]
    },
    {
      "cell_type": "markdown",
      "source": [
        "### eliminar\n",
        "el diccionario por completo\n"
      ],
      "metadata": {
        "id": "zB4KJ5KkO3sY"
      }
    },
    {
      "cell_type": "code",
      "source": [
        "del numero2\n",
        "numero2"
      ],
      "metadata": {
        "colab": {
          "base_uri": "https://localhost:8080/",
          "height": 184
        },
        "id": "T2yJ70MCOhKa",
        "outputId": "8a44d5d3-8aef-4c27-b9a9-247551e7fe58"
      },
      "execution_count": null,
      "outputs": [
        {
          "output_type": "error",
          "ename": "NameError",
          "evalue": "ignored",
          "traceback": [
            "\u001b[0;31m---------------------------------------------------------------------------\u001b[0m",
            "\u001b[0;31mNameError\u001b[0m                                 Traceback (most recent call last)",
            "\u001b[0;32m<ipython-input-122-90dcf55de9a4>\u001b[0m in \u001b[0;36m<module>\u001b[0;34m()\u001b[0m\n\u001b[1;32m      1\u001b[0m \u001b[0;32mdel\u001b[0m \u001b[0mnumero2\u001b[0m\u001b[0;34m\u001b[0m\u001b[0;34m\u001b[0m\u001b[0m\n\u001b[0;32m----> 2\u001b[0;31m \u001b[0mnumero2\u001b[0m\u001b[0;34m\u001b[0m\u001b[0;34m\u001b[0m\u001b[0m\n\u001b[0m",
            "\u001b[0;31mNameError\u001b[0m: name 'numero2' is not defined"
          ]
        }
      ]
    },
    {
      "cell_type": "markdown",
      "source": [
        "## Set - Conjunto\n",
        "el set o conjunto de datos es un tipo de valor parecido a listas y tuplas, la diferencia entre este y los otros es que este no acepta valores repetidos, a comparación de las tuplas, diccionarios y listas, se declaran mediante llaves {}, son mutables y no mantienen un orden especifico."
      ],
      "metadata": {
        "id": "p-NiTrAjPhiX"
      }
    },
    {
      "cell_type": "code",
      "source": [
        "planetas = {'tierra','jupiter','saturno'}\n",
        "planetas, planetas"
      ],
      "metadata": {
        "colab": {
          "base_uri": "https://localhost:8080/"
        },
        "id": "LYWi_5K6PBDA",
        "outputId": "b0ce1a58-abee-4c88-eea6-d802d531c143"
      },
      "execution_count": null,
      "outputs": [
        {
          "output_type": "execute_result",
          "data": {
            "text/plain": [
              "({'jupiter', 'saturno', 'tierra'}, {'jupiter', 'saturno', 'tierra'})"
            ]
          },
          "metadata": {},
          "execution_count": 140
        }
      ]
    },
    {
      "cell_type": "markdown",
      "source": [
        "como podemos observar no mantienen un orden.\n",
        "\n",
        "----\n",
        "\n",
        "### Agregar un valor\n",
        "para eso ocupamos la función `add`"
      ],
      "metadata": {
        "id": "x9fZQUogP6sz"
      }
    },
    {
      "cell_type": "code",
      "source": [
        "planetas.add('mercurio')\n",
        "planetas"
      ],
      "metadata": {
        "colab": {
          "base_uri": "https://localhost:8080/"
        },
        "id": "rWpZKnpYP5az",
        "outputId": "a558d704-f89b-47f5-95d4-72112438971a"
      },
      "execution_count": null,
      "outputs": [
        {
          "output_type": "execute_result",
          "data": {
            "text/plain": [
              "{'jupiter', 'mercurio', 'saturno', 'tierra'}"
            ]
          },
          "metadata": {},
          "execution_count": 127
        }
      ]
    },
    {
      "cell_type": "markdown",
      "source": [
        "si queremos volver a agregar el planeta mercurio, no nos dira nada, pero no lo agregara ya que ya existe uno"
      ],
      "metadata": {
        "id": "-S0dplnuQGak"
      }
    },
    {
      "cell_type": "code",
      "source": [
        "planetas.add('mercurio')\n",
        "planetas"
      ],
      "metadata": {
        "colab": {
          "base_uri": "https://localhost:8080/"
        },
        "id": "Uf4AgrHBQFoa",
        "outputId": "d6a16737-a929-4e47-dfc8-0d35d6a86468"
      },
      "execution_count": null,
      "outputs": [
        {
          "output_type": "execute_result",
          "data": {
            "text/plain": [
              "{'jupiter', 'mercurio', 'saturno', 'tierra'}"
            ]
          },
          "metadata": {},
          "execution_count": 133
        }
      ]
    },
    {
      "cell_type": "markdown",
      "source": [
        "### Eliminar elemento de un set\n",
        "para eliminarlo podemos hacerlo desde el valor con `remove` o con `pop` eliminamos el ultimo valor."
      ],
      "metadata": {
        "id": "tr2CoNG7QY8X"
      }
    },
    {
      "cell_type": "code",
      "source": [
        "planetas.remove('jupiter')\n",
        "planetas"
      ],
      "metadata": {
        "colab": {
          "base_uri": "https://localhost:8080/"
        },
        "id": "2i7EvPcUQMkO",
        "outputId": "38d7ce5c-8f3d-4b11-b33b-a59032f720af"
      },
      "execution_count": null,
      "outputs": [
        {
          "output_type": "execute_result",
          "data": {
            "text/plain": [
              "{'mercurio', 'saturno', 'tierra'}"
            ]
          },
          "metadata": {},
          "execution_count": 134
        }
      ]
    },
    {
      "cell_type": "code",
      "source": [
        "planetas.pop()\n",
        "planetas"
      ],
      "metadata": {
        "colab": {
          "base_uri": "https://localhost:8080/"
        },
        "id": "X4rVzPWOQe1i",
        "outputId": "2360a825-37e7-4bbc-b728-b21281b6b545"
      },
      "execution_count": null,
      "outputs": [
        {
          "output_type": "execute_result",
          "data": {
            "text/plain": [
              "{'saturno', 'tierra'}"
            ]
          },
          "metadata": {},
          "execution_count": 141
        }
      ]
    },
    {
      "cell_type": "markdown",
      "source": [
        "### del\n",
        "para borrar un set ocupamos tambien del"
      ],
      "metadata": {
        "id": "IVDQSY3NQ9XN"
      }
    },
    {
      "cell_type": "code",
      "source": [
        "del planetas\n",
        "planetas"
      ],
      "metadata": {
        "id": "FClhrk-PQjpj"
      },
      "execution_count": null,
      "outputs": []
    },
    {
      "cell_type": "markdown",
      "source": [
        ""
      ],
      "metadata": {
        "id": "c4oeM2AARGIF"
      }
    }
  ]
}